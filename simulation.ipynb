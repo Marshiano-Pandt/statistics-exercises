{
 "cells": [
  {
   "cell_type": "code",
   "execution_count": 9,
   "id": "7eea22af-ba3d-4e64-90de-8b6902a5571b",
   "metadata": {
    "tags": []
   },
   "outputs": [],
   "source": [
    "# Import libraries\n",
    "import numpy as np\n",
    "import pandas as pd\n",
    "\n",
    "# Set up overall conditions\n",
    "np.random.seed(123)\n",
    "n_trials = 100_000"
   ]
  },
  {
   "cell_type": "markdown",
   "id": "0120207a-7436-4812-a023-a2385553790e",
   "metadata": {},
   "source": [
    "1. How likely is it that you roll doubles when rolling two dice?"
   ]
  },
  {
   "cell_type": "code",
   "execution_count": 10,
   "id": "3e7648de-ebb5-449c-93ce-6e4299589984",
   "metadata": {
    "tags": []
   },
   "outputs": [],
   "source": [
    "# set up individual variables for our test\n",
    "outcomes = list(range(1,7))\n",
    "n_dice = 2\n"
   ]
  },
  {
   "cell_type": "code",
   "execution_count": 11,
   "id": "c0f5356e-3eb1-49fc-b836-7b176d00d70a",
   "metadata": {
    "tags": []
   },
   "outputs": [
    {
     "data": {
      "text/plain": [
       "array([[6, 3],\n",
       "       [5, 3],\n",
       "       [2, 4],\n",
       "       [3, 4],\n",
       "       [2, 2],\n",
       "       [1, 2],\n",
       "       [2, 1],\n",
       "       [1, 2],\n",
       "       [4, 6],\n",
       "       [5, 1]])"
      ]
     },
     "execution_count": 11,
     "metadata": {},
     "output_type": "execute_result"
    }
   ],
   "source": [
    "rolls = np.random.choice(outcomes,(n_trials,n_dice))\n",
    "rolls[:10]"
   ]
  },
  {
   "cell_type": "code",
   "execution_count": 12,
   "id": "1ab01ac0-1e00-48bb-9d08-aed76c6b839e",
   "metadata": {
    "tags": []
   },
   "outputs": [
    {
     "data": {
      "text/plain": [
       "0.16497"
      ]
     },
     "execution_count": 12,
     "metadata": {},
     "output_type": "execute_result"
    }
   ],
   "source": [
    "# Determine if roll 1 is also roll 2\n",
    "(rolls[:,0] == rolls[:,1]).sum() / len(rolls)"
   ]
  },
  {
   "cell_type": "markdown",
   "id": "293b8d12-a054-4f62-a2c7-a2c8114ee277",
   "metadata": {},
   "source": [
    "2. If you flip 8 coins, what is the probability of getting exactly 3 heads? What is the probability of getting more than 3 heads?"
   ]
  },
  {
   "cell_type": "code",
   "execution_count": 13,
   "id": "3cd83540-a703-48d2-bf96-9265a4da249f",
   "metadata": {
    "tags": []
   },
   "outputs": [
    {
     "data": {
      "text/plain": [
       "array([['T', 'T', 'T', 'T', 'H', 'T', 'T', 'H'],\n",
       "       ['H', 'H', 'H', 'H', 'T', 'H', 'T', 'H'],\n",
       "       ['H', 'H', 'T', 'T', 'T', 'T', 'H', 'H'],\n",
       "       ['H', 'T', 'T', 'T', 'H', 'T', 'H', 'H'],\n",
       "       ['T', 'T', 'H', 'T', 'H', 'H', 'T', 'H'],\n",
       "       ['T', 'H', 'T', 'H', 'T', 'H', 'T', 'T'],\n",
       "       ['H', 'H', 'T', 'H', 'T', 'T', 'T', 'H'],\n",
       "       ['H', 'H', 'H', 'T', 'H', 'T', 'T', 'T'],\n",
       "       ['T', 'H', 'H', 'T', 'H', 'H', 'T', 'T'],\n",
       "       ['T', 'H', 'H', 'T', 'H', 'T', 'T', 'T']], dtype='<U1')"
      ]
     },
     "execution_count": 13,
     "metadata": {},
     "output_type": "execute_result"
    }
   ],
   "source": [
    "# Adjust outcomes and set number of coins\n",
    "outcomes = ['H','T']\n",
    "n_coins = 8\n",
    "\n",
    "# Create number of trials\n",
    "flips = np.random.choice(outcomes,(n_trials,n_coins))\n",
    "flips[:10]"
   ]
  },
  {
   "cell_type": "code",
   "execution_count": 15,
   "id": "73ca4218-c3da-4905-9e94-0e367ce4160c",
   "metadata": {
    "tags": []
   },
   "outputs": [
    {
     "data": {
      "text/plain": [
       "0.22128"
      ]
     },
     "execution_count": 15,
     "metadata": {},
     "output_type": "execute_result"
    }
   ],
   "source": [
    "# First turn each flip into a boolean to check for heads, then get the row summary\n",
    "# Then if the row summary is equal to 3, sum that new boolean and divide by length of flips\n",
    "# to get final probability\n",
    "((flips == 'H').sum(axis=1) == 3).sum() / len(flips)"
   ]
  },
  {
   "cell_type": "code",
   "execution_count": 16,
   "id": "010a39f4-43eb-4ead-9802-0ce826598f90",
   "metadata": {
    "tags": []
   },
   "outputs": [
    {
     "data": {
      "text/plain": [
       "0.63372"
      ]
     },
     "execution_count": 16,
     "metadata": {},
     "output_type": "execute_result"
    }
   ],
   "source": [
    "((flips == 'H').sum(axis=1) > 3).mean()"
   ]
  },
  {
   "cell_type": "markdown",
   "id": "7b95ce39-cba9-4012-988c-ed141b0c7f56",
   "metadata": {},
   "source": [
    "3. There are approximitely 3 web development cohorts for every 1 data science cohort at Codeup. Assuming that Codeup randomly selects an alumni to put on a billboard, what are the odds that the two billboards I drive past both have data science students on them?"
   ]
  },
  {
   "cell_type": "code",
   "execution_count": 17,
   "id": "830e29ab-33ef-4462-9e8d-24e3e837dcf7",
   "metadata": {
    "tags": []
   },
   "outputs": [
    {
     "data": {
      "text/plain": [
       "0.0625"
      ]
     },
     "execution_count": 17,
     "metadata": {},
     "output_type": "execute_result"
    }
   ],
   "source": [
    "# 3 web dev to 1 data science = 1/4th classes is a DS class\n",
    "# So it'll be something along the lines of 1/4 classes times 1/4\n",
    "# So our answer should look something like 1/16\n",
    "1/16"
   ]
  },
  {
   "cell_type": "code",
   "execution_count": 18,
   "id": "ba3d76c6-a632-4874-a93a-331afab8c0a2",
   "metadata": {
    "tags": []
   },
   "outputs": [
    {
     "data": {
      "text/plain": [
       "array([['WD', 'WD'],\n",
       "       ['WD', 'WD'],\n",
       "       ['DS', 'WD'],\n",
       "       ['WD', 'DS'],\n",
       "       ['WD', 'DS'],\n",
       "       ['WD', 'WD'],\n",
       "       ['WD', 'DS'],\n",
       "       ['WD', 'DS'],\n",
       "       ['WD', 'WD'],\n",
       "       ['WD', 'WD']], dtype='<U2')"
      ]
     },
     "execution_count": 18,
     "metadata": {},
     "output_type": "execute_result"
    }
   ],
   "source": [
    "outcomes = ['DS','WD','WD','WD']\n",
    "n_boards = 2\n",
    "\n",
    "billboards = np.random.choice(outcomes,(n_trials,n_boards))\n",
    "billboards[:10]"
   ]
  },
  {
   "cell_type": "code",
   "execution_count": 19,
   "id": "661f9bb9-0197-4f09-89b3-6a6e60638358",
   "metadata": {
    "tags": []
   },
   "outputs": [
    {
     "data": {
      "text/plain": [
       "0.06396"
      ]
     },
     "execution_count": 19,
     "metadata": {},
     "output_type": "execute_result"
    }
   ],
   "source": [
    "# Create test condition against 'DS' for Data Science\n",
    "# Sum across rows\n",
    "# If the sum total equals 2, then 'DS' is on both billboards (turn that into a boolean)\n",
    "# Then get the sum of booleans divided by length of billboards\n",
    "((billboards == 'DS').sum(axis=1) == 2).sum() / len(billboards)"
   ]
  },
  {
   "cell_type": "code",
   "execution_count": 20,
   "id": "89aa154e-0225-443e-8dea-717ab646ccf0",
   "metadata": {
    "tags": []
   },
   "outputs": [
    {
     "data": {
      "text/plain": [
       "0.06396"
      ]
     },
     "execution_count": 20,
     "metadata": {},
     "output_type": "execute_result"
    }
   ],
   "source": [
    "# Try this with mean\n",
    "((billboards == 'DS').sum(axis=1) == 2).mean()"
   ]
  },
  {
   "cell_type": "code",
   "execution_count": null,
   "id": "fcaa7f1a-cd48-42ab-87c8-29c8c7634d9d",
   "metadata": {},
   "outputs": [],
   "source": []
  },
  {
   "cell_type": "code",
   "execution_count": null,
   "id": "ca7ea1da-8657-4877-9709-63f5a82aba53",
   "metadata": {},
   "outputs": [],
   "source": []
  },
  {
   "cell_type": "markdown",
   "id": "89b2bab2-8d62-499a-8ec9-4fd091888741",
   "metadata": {},
   "source": [
    "4. Codeup students buy, on average, 3 poptart packages with a standard deviation of 1.5 a day from the snack vending machine. If on monday the machine is restocked with 17 poptart packages, how likely is it that I will be able to buy some poptarts on Friday afternoon? (Remember, if you have mean and standard deviation, use the np.random.normal) You'll need to make a judgement call on how to handle some of your values"
   ]
  },
  {
   "cell_type": "code",
   "execution_count": 21,
   "id": "33c5d5cd-0663-43b4-8600-2be3dad7b89e",
   "metadata": {
    "tags": []
   },
   "outputs": [
    {
     "data": {
      "text/plain": [
       "array([[1.68798591, 2.7698127 , 3.30310137, 3.45726925, 0.55099958],\n",
       "       [2.95339273, 1.30502667, 5.53459412, 4.82111324, 3.64236023],\n",
       "       [4.29160809, 1.96440374, 1.6045665 , 4.05790293, 2.53907919],\n",
       "       [1.52474342, 5.63936177, 4.04014284, 5.34792325, 3.85892812],\n",
       "       [1.8058607 , 2.67899881, 2.06632554, 2.12347509, 4.29128652],\n",
       "       [4.87627538, 6.69561876, 1.07489227, 3.12003442, 0.63729615],\n",
       "       [6.21811961, 4.19961101, 1.38112108, 4.94211217, 2.83728238],\n",
       "       [3.54715382, 4.90212404, 0.84800817, 2.84666182, 3.31683785],\n",
       "       [2.66662526, 4.270446  , 4.61220303, 2.62988572, 3.24501702],\n",
       "       [5.55606049, 2.9311997 , 1.13641218, 2.5483197 , 2.87501629]])"
      ]
     },
     "execution_count": 21,
     "metadata": {},
     "output_type": "execute_result"
    }
   ],
   "source": [
    "# Get an idea of using np.random.normal, and once familiarized, set that to a variable\n",
    "daily_poptarts = np.random.normal(loc=3.0,scale=1.5,size=(n_trials,5))\n",
    "daily_poptarts[:10]"
   ]
  },
  {
   "cell_type": "code",
   "execution_count": 22,
   "id": "bca93680-f9c3-401d-b3e4-6b1fde35f52f",
   "metadata": {
    "tags": []
   },
   "outputs": [
    {
     "data": {
      "text/plain": [
       "array([ 5.23083119, -1.25648699,  2.54243955, -3.4110994 ,  4.03405334,\n",
       "        0.59588302, -2.57824625,  1.5392143 , -0.42417704,  1.95299163])"
      ]
     },
     "execution_count": 22,
     "metadata": {},
     "output_type": "execute_result"
    }
   ],
   "source": [
    "end_consumption = 17 - daily_poptarts.sum(axis=1)\n",
    "end_consumption[:10]"
   ]
  },
  {
   "cell_type": "code",
   "execution_count": 24,
   "id": "337ba002-f86e-4392-b391-00ba4ccf9cf5",
   "metadata": {
    "tags": []
   },
   "outputs": [
    {
     "data": {
      "text/plain": [
       "0.61516"
      ]
     },
     "execution_count": 24,
     "metadata": {},
     "output_type": "execute_result"
    }
   ],
   "source": [
    "(end_consumption > 1).mean()"
   ]
  },
  {
   "cell_type": "code",
   "execution_count": 25,
   "id": "77f7d93b-6e0d-42ba-ab8b-899d596fa2b4",
   "metadata": {
    "tags": []
   },
   "outputs": [
    {
     "data": {
      "text/plain": [
       "0.62"
      ]
     },
     "execution_count": 25,
     "metadata": {},
     "output_type": "execute_result"
    }
   ],
   "source": [
    "daily_poptarts = np.random.normal(loc=3.0,scale=1.5,size=(n_trials,5))\n",
    "end_consumption = 17 - daily_poptarts.sum(axis=1)\n",
    "(end_consumption > 1).mean().round(2)"
   ]
  },
  {
   "cell_type": "markdown",
   "id": "f57f1d91-d339-443e-92c8-87d5059884d7",
   "metadata": {},
   "source": [
    "5. Compare Heights\n",
    "\n",
    "Men have an average height of 178 cm and standard deviation of 8cm.\n",
    "\n",
    "Women have a mean of 170, sd = 6cm.\n",
    "Since you have means and standard deviations, you can use np.random.normal to generate observations.\n",
    "\n",
    "If a man and woman are chosen at random, what is the likelihood the woman is taller than the man?"
   ]
  },
  {
   "cell_type": "code",
   "execution_count": 26,
   "id": "6e531668-d393-44c2-9f0c-dbe1bd085f78",
   "metadata": {
    "tags": []
   },
   "outputs": [
    {
     "data": {
      "text/plain": [
       "array([175.06731455, 180.16580625, 184.72608636, 179.99107353,\n",
       "       173.11957806, 183.59234394, 183.99629043, 182.59218779,\n",
       "       161.61620243, 187.14400529])"
      ]
     },
     "execution_count": 26,
     "metadata": {},
     "output_type": "execute_result"
    }
   ],
   "source": [
    "# Establish male height and std\n",
    "m_ht = 178\n",
    "m_sd = 8\n",
    "\n",
    "# make the array of male heights\n",
    "m_heights = np.random.normal(m_ht,m_sd,(n_trials))\n",
    "m_heights[:10]"
   ]
  },
  {
   "cell_type": "code",
   "execution_count": 27,
   "id": "6601e8f6-9f58-4206-a973-f5ebe9629f52",
   "metadata": {
    "tags": []
   },
   "outputs": [
    {
     "data": {
      "text/plain": [
       "array([166.15346864, 166.03998357, 165.4708793 , 170.00408182,\n",
       "       177.51055964, 172.31119058, 177.30114656, 180.99675224,\n",
       "       169.07419928, 165.68364652])"
      ]
     },
     "execution_count": 27,
     "metadata": {},
     "output_type": "execute_result"
    }
   ],
   "source": [
    "# Establish female height and std\n",
    "f_ht = 170\n",
    "f_sd = 6\n",
    "\n",
    "# make the array of female heights\n",
    "f_heights = np.random.normal(f_ht,f_sd,(n_trials))\n",
    "f_heights[:10]"
   ]
  },
  {
   "cell_type": "code",
   "execution_count": 28,
   "id": "903668cf-f8cf-4574-84d5-4beac34d953c",
   "metadata": {
    "tags": []
   },
   "outputs": [
    {
     "data": {
      "text/html": [
       "<div>\n",
       "<style scoped>\n",
       "    .dataframe tbody tr th:only-of-type {\n",
       "        vertical-align: middle;\n",
       "    }\n",
       "\n",
       "    .dataframe tbody tr th {\n",
       "        vertical-align: top;\n",
       "    }\n",
       "\n",
       "    .dataframe thead th {\n",
       "        text-align: right;\n",
       "    }\n",
       "</style>\n",
       "<table border=\"1\" class=\"dataframe\">\n",
       "  <thead>\n",
       "    <tr style=\"text-align: right;\">\n",
       "      <th></th>\n",
       "      <th>male_height</th>\n",
       "      <th>female_height</th>\n",
       "    </tr>\n",
       "  </thead>\n",
       "  <tbody>\n",
       "    <tr>\n",
       "      <th>count</th>\n",
       "      <td>100000.0</td>\n",
       "      <td>100000.0</td>\n",
       "    </tr>\n",
       "    <tr>\n",
       "      <th>mean</th>\n",
       "      <td>178.0</td>\n",
       "      <td>170.0</td>\n",
       "    </tr>\n",
       "    <tr>\n",
       "      <th>std</th>\n",
       "      <td>8.0</td>\n",
       "      <td>6.0</td>\n",
       "    </tr>\n",
       "    <tr>\n",
       "      <th>min</th>\n",
       "      <td>147.0</td>\n",
       "      <td>145.0</td>\n",
       "    </tr>\n",
       "    <tr>\n",
       "      <th>25%</th>\n",
       "      <td>173.0</td>\n",
       "      <td>166.0</td>\n",
       "    </tr>\n",
       "    <tr>\n",
       "      <th>50%</th>\n",
       "      <td>178.0</td>\n",
       "      <td>170.0</td>\n",
       "    </tr>\n",
       "    <tr>\n",
       "      <th>75%</th>\n",
       "      <td>183.0</td>\n",
       "      <td>174.0</td>\n",
       "    </tr>\n",
       "    <tr>\n",
       "      <th>max</th>\n",
       "      <td>208.0</td>\n",
       "      <td>196.0</td>\n",
       "    </tr>\n",
       "  </tbody>\n",
       "</table>\n",
       "</div>"
      ],
      "text/plain": [
       "       male_height  female_height\n",
       "count     100000.0       100000.0\n",
       "mean         178.0          170.0\n",
       "std            8.0            6.0\n",
       "min          147.0          145.0\n",
       "25%          173.0          166.0\n",
       "50%          178.0          170.0\n",
       "75%          183.0          174.0\n",
       "max          208.0          196.0"
      ]
     },
     "execution_count": 28,
     "metadata": {},
     "output_type": "execute_result"
    }
   ],
   "source": [
    "heights = pd.DataFrame(\n",
    "    {\n",
    "        'male_height':np.random.choice(m_heights,(n_trials)),\n",
    "        'female_height':np.random.choice(f_heights,(n_trials))\n",
    "    }\n",
    ")\n",
    "\n",
    "heights.describe().round()"
   ]
  },
  {
   "cell_type": "markdown",
   "id": "6e0a6fb0-0546-4cc2-8cf6-f6c321645691",
   "metadata": {},
   "source": [
    "If a man and woman are chosen at random, what is the likelihood the woman is taller than the man?"
   ]
  },
  {
   "cell_type": "code",
   "execution_count": 29,
   "id": "419d64b2-5d50-4e8a-a422-2119fe71e319",
   "metadata": {
    "tags": []
   },
   "outputs": [
    {
     "data": {
      "text/plain": [
       "0.21457"
      ]
     },
     "execution_count": 29,
     "metadata": {},
     "output_type": "execute_result"
    }
   ],
   "source": [
    "(heights.female_height > heights.male_height).mean()"
   ]
  },
  {
   "cell_type": "code",
   "execution_count": null,
   "id": "a2dd4fc5-f625-48ae-9e8e-6a6660f3d08d",
   "metadata": {},
   "outputs": [],
   "source": []
  },
  {
   "cell_type": "markdown",
   "id": "4322d9eb-db14-4bba-8486-fab62bc143c8",
   "metadata": {},
   "source": [
    "6. When installing anaconda on a student's computer, there's a 1 in 250 chance that the download is corrupted and the installation fails. What are the odds that after having 50 students download anaconda, no one has an installation issue? 100 students?\n",
    "\n",
    "What is the probability that we observe an installation issue within the first 150 students that download anaconda?\n",
    "\n",
    "How likely is it that 450 students all download anaconda without an issue?"
   ]
  },
  {
   "cell_type": "code",
   "execution_count": 30,
   "id": "07992bd0-6663-4bf5-bcbd-a136c14956f0",
   "metadata": {
    "tags": []
   },
   "outputs": [
    {
     "data": {
      "text/plain": [
       "0.8184024506760997"
      ]
     },
     "execution_count": 30,
     "metadata": {},
     "output_type": "execute_result"
    }
   ],
   "source": [
    "# p = probability of single event, in this case 1 in 250 chance of download corrupted\n",
    "# n = number of trials, in this case the number of students downloading\n",
    "p = 1/250\n",
    "n = 50\n",
    "(1-p)**n"
   ]
  },
  {
   "cell_type": "code",
   "execution_count": 31,
   "id": "4bfd6846-6aa2-4bf3-83d6-782102bb94db",
   "metadata": {
    "tags": []
   },
   "outputs": [
    {
     "data": {
      "text/plain": [
       "array([[0.12310616, 0.52675227, 0.20126506, 0.18043498, 0.80104613,\n",
       "        0.62691938, 0.27662418, 0.81050405, 0.60229298, 0.05055323,\n",
       "        0.81671477, 0.94373607, 0.72268724, 0.15622368, 0.34682255,\n",
       "        0.31358997, 0.47121437, 0.28991572, 0.73319046, 0.86925656,\n",
       "        0.1681269 , 0.42222747, 0.45120135, 0.00439776, 0.84075202,\n",
       "        0.29748951, 0.03844183, 0.00567731, 0.15562885, 0.31130481,\n",
       "        0.06799421, 0.72630896, 0.80293094, 0.23245541, 0.5135685 ,\n",
       "        0.64329465, 0.5002918 , 0.27122958, 0.58331618, 0.75355195,\n",
       "        0.46456472, 0.83569144, 0.22662404, 0.14728746, 0.77547688,\n",
       "        0.9003262 , 0.46647358, 0.17055439, 0.7239486 , 0.48968672],\n",
       "       [0.86588007, 0.98744363, 0.60769011, 0.73389239, 0.17195023,\n",
       "        0.36624114, 0.22410136, 0.04640949, 0.02370488, 0.31819625,\n",
       "        0.9208575 , 0.44227546, 0.71155077, 0.59375613, 0.45129411,\n",
       "        0.20459393, 0.84094231, 0.45397945, 0.41321107, 0.12560271,\n",
       "        0.82872283, 0.02012217, 0.18634058, 0.04044223, 0.13460395,\n",
       "        0.69697754, 0.38752838, 0.42077028, 0.12911399, 0.15877706,\n",
       "        0.06480368, 0.37605266, 0.38559186, 0.96912706, 0.23824349,\n",
       "        0.30749226, 0.32628715, 0.15883899, 0.38019857, 0.93997862,\n",
       "        0.34916657, 0.81968082, 0.11372151, 0.17972426, 0.72086792,\n",
       "        0.44534352, 0.67723358, 0.77367609, 0.4189165 , 0.83210256]])"
      ]
     },
     "execution_count": 31,
     "metadata": {},
     "output_type": "execute_result"
    }
   ],
   "source": [
    "downloads = np.random.random((n_trials,n))\n",
    "downloads[:2]"
   ]
  },
  {
   "cell_type": "code",
   "execution_count": 32,
   "id": "43fe02cf-9e2e-4b96-944e-c1849d569303",
   "metadata": {
    "tags": []
   },
   "outputs": [
    {
     "data": {
      "text/plain": [
       "array([[ True,  True,  True,  True,  True,  True,  True,  True,  True,\n",
       "         True,  True,  True,  True,  True,  True,  True,  True,  True,\n",
       "         True,  True,  True,  True,  True,  True,  True,  True,  True,\n",
       "         True,  True,  True,  True,  True,  True,  True,  True,  True,\n",
       "         True,  True,  True,  True,  True,  True,  True,  True,  True,\n",
       "         True,  True,  True,  True,  True],\n",
       "       [ True,  True,  True,  True,  True,  True,  True,  True,  True,\n",
       "         True,  True,  True,  True,  True,  True,  True,  True,  True,\n",
       "         True,  True,  True,  True,  True,  True,  True,  True,  True,\n",
       "         True,  True,  True,  True,  True,  True,  True,  True,  True,\n",
       "         True,  True,  True,  True,  True,  True,  True,  True,  True,\n",
       "         True,  True,  True,  True,  True]])"
      ]
     },
     "execution_count": 32,
     "metadata": {},
     "output_type": "execute_result"
    }
   ],
   "source": [
    "# Create a boolean of students succeeding\n",
    "download_success = downloads > p\n",
    "download_success[:2]"
   ]
  },
  {
   "cell_type": "code",
   "execution_count": 33,
   "id": "1072ee20-6cfe-46be-890a-4472661b4abd",
   "metadata": {
    "tags": []
   },
   "outputs": [
    {
     "data": {
      "text/plain": [
       "0.8192"
      ]
     },
     "execution_count": 33,
     "metadata": {},
     "output_type": "execute_result"
    }
   ],
   "source": [
    "# Aggregate the results\n",
    "(download_success.sum(axis=1) == n).mean()"
   ]
  },
  {
   "cell_type": "code",
   "execution_count": 34,
   "id": "44b7db8a-68c4-45ea-984b-48a27954e67c",
   "metadata": {
    "tags": []
   },
   "outputs": [
    {
     "data": {
      "text/plain": [
       "0.6697825712726458"
      ]
     },
     "execution_count": 34,
     "metadata": {},
     "output_type": "execute_result"
    }
   ],
   "source": [
    "# change n to 100 for larger scale\n",
    "n = 100\n",
    "(1-p)**n"
   ]
  },
  {
   "cell_type": "code",
   "execution_count": 35,
   "id": "ae3b2a00-b767-4907-beac-ca9ffe07fd91",
   "metadata": {
    "tags": []
   },
   "outputs": [
    {
     "data": {
      "text/plain": [
       "0.66692"
      ]
     },
     "execution_count": 35,
     "metadata": {},
     "output_type": "execute_result"
    }
   ],
   "source": [
    "# Simulate the odds, changing n to 100\n",
    "downloads = np.random.random((n_trials,n))\n",
    "download_success = downloads > p\n",
    "(download_success.sum(axis=1) == n).mean()"
   ]
  },
  {
   "cell_type": "markdown",
   "id": "96c520d6-b962-453c-b4c2-4c61a5829edb",
   "metadata": {
    "tags": []
   },
   "source": [
    "What is the probability that we observe an installation issue within the first 150 students that download anaconda?"
   ]
  },
  {
   "cell_type": "code",
   "execution_count": 37,
   "id": "27e3e2a9-f093-46b3-ae47-4474b4c6e76d",
   "metadata": {
    "tags": []
   },
   "outputs": [
    {
     "data": {
      "text/plain": [
       "0.4518483022503271"
      ]
     },
     "execution_count": 37,
     "metadata": {},
     "output_type": "execute_result"
    }
   ],
   "source": [
    "# Now changing n to 150\n",
    "\n",
    "n = 150\n",
    "\n",
    "1-(1-p)**n"
   ]
  },
  {
   "cell_type": "code",
   "execution_count": 38,
   "id": "7e3b188f-f8ad-4f98-b63a-2ff390c50642",
   "metadata": {
    "tags": []
   },
   "outputs": [
    {
     "data": {
      "text/plain": [
       "0.45283"
      ]
     },
     "execution_count": 38,
     "metadata": {},
     "output_type": "execute_result"
    }
   ],
   "source": [
    "downloads = np.random.random((n_trials,n))\n",
    "download_fail = downloads <= p\n",
    "(download_fail.sum(axis=1) >= 1).mean()"
   ]
  },
  {
   "cell_type": "markdown",
   "id": "c0a83117-5ad1-4c9d-8e2d-f9c1136f747e",
   "metadata": {},
   "source": [
    "How likely is it that 450 students all download anaconda without an issue?"
   ]
  },
  {
   "cell_type": "code",
   "execution_count": 39,
   "id": "abd05ec1-b614-44b3-a013-de9502c156da",
   "metadata": {
    "tags": []
   },
   "outputs": [
    {
     "data": {
      "text/plain": [
       "0.1647032961586129"
      ]
     },
     "execution_count": 39,
     "metadata": {},
     "output_type": "execute_result"
    }
   ],
   "source": [
    "n = 450\n",
    "\n",
    "(1-p)**n"
   ]
  },
  {
   "cell_type": "code",
   "execution_count": 40,
   "id": "b8f469c5-79d1-457e-97db-c04fe6449d4a",
   "metadata": {
    "tags": []
   },
   "outputs": [
    {
     "data": {
      "text/plain": [
       "0.16506"
      ]
     },
     "execution_count": 40,
     "metadata": {},
     "output_type": "execute_result"
    }
   ],
   "source": [
    "downloads = np.random.random((n_trials,n))\n",
    "download_success = downloads > p\n",
    "(download_success.sum(axis=1) == n).mean()"
   ]
  },
  {
   "cell_type": "code",
   "execution_count": null,
   "id": "ba09e210-d8be-445c-bcb8-2e6b0c2d8b86",
   "metadata": {},
   "outputs": [],
   "source": []
  },
  {
   "cell_type": "code",
   "execution_count": null,
   "id": "197f5941-3c85-4a7d-bd81-1caf97e9f49d",
   "metadata": {},
   "outputs": [],
   "source": []
  },
  {
   "cell_type": "markdown",
   "id": "828deb3c-72ef-41d4-a2de-45a78ec32707",
   "metadata": {},
   "source": [
    "7. There's a 70% chance on any given day that there will be at least one food truck at Travis Park. However, you haven't seen a food truck there in 3 days. How unlikely is this?\n",
    "\n",
    "How likely is it that a food truck will show up sometime this week?"
   ]
  },
  {
   "cell_type": "code",
   "execution_count": 41,
   "id": "410bd123-b513-4f87-b3e6-e7cce966f701",
   "metadata": {
    "tags": []
   },
   "outputs": [
    {
     "data": {
      "text/plain": [
       "0.027000000000000014"
      ]
     },
     "execution_count": 41,
     "metadata": {},
     "output_type": "execute_result"
    }
   ],
   "source": [
    "# Establish variables\n",
    "p = 7/10\n",
    "n = 3\n",
    "\n",
    "(1-p)**n"
   ]
  },
  {
   "cell_type": "code",
   "execution_count": 42,
   "id": "cad79bd6-50d7-4c20-88f6-694dd013bfeb",
   "metadata": {
    "tags": []
   },
   "outputs": [
    {
     "data": {
      "text/plain": [
       "array([['Truck', 'No Truck', 'Truck'],\n",
       "       ['Truck', 'No Truck', 'No Truck'],\n",
       "       ['Truck', 'Truck', 'Truck'],\n",
       "       ['Truck', 'No Truck', 'Truck'],\n",
       "       ['Truck', 'Truck', 'No Truck'],\n",
       "       ['No Truck', 'No Truck', 'Truck'],\n",
       "       ['Truck', 'Truck', 'No Truck'],\n",
       "       ['Truck', 'Truck', 'No Truck'],\n",
       "       ['Truck', 'Truck', 'Truck'],\n",
       "       ['Truck', 'Truck', 'Truck']], dtype='<U8')"
      ]
     },
     "execution_count": 42,
     "metadata": {},
     "output_type": "execute_result"
    }
   ],
   "source": [
    "prob_of_truck = np.random.choice(['Truck','No Truck'],(n_trials,n),p=[.7,.3])\n",
    "prob_of_truck[:10]"
   ]
  },
  {
   "cell_type": "code",
   "execution_count": 43,
   "id": "c6747ab7-2a64-4f23-b391-72539e6a1eaa",
   "metadata": {
    "tags": []
   },
   "outputs": [
    {
     "data": {
      "text/plain": [
       "array([[ True, False,  True],\n",
       "       [ True, False, False],\n",
       "       [ True,  True,  True],\n",
       "       [ True, False,  True],\n",
       "       [ True,  True, False],\n",
       "       [False, False,  True],\n",
       "       [ True,  True, False],\n",
       "       [ True,  True, False],\n",
       "       [ True,  True,  True],\n",
       "       [ True,  True,  True]])"
      ]
     },
     "execution_count": 43,
     "metadata": {},
     "output_type": "execute_result"
    }
   ],
   "source": [
    "truck_found = prob_of_truck == 'Truck'\n",
    "truck_found[:10]"
   ]
  },
  {
   "cell_type": "code",
   "execution_count": 44,
   "id": "acc590f5-3da4-4223-a40a-345ac0084635",
   "metadata": {
    "tags": []
   },
   "outputs": [
    {
     "data": {
      "text/plain": [
       "0.02792"
      ]
     },
     "execution_count": 44,
     "metadata": {},
     "output_type": "execute_result"
    }
   ],
   "source": [
    "(truck_found.sum(axis=1) == 0).mean()"
   ]
  },
  {
   "cell_type": "markdown",
   "id": "99f7049d-af7b-4db0-8cf0-b6cced109993",
   "metadata": {},
   "source": [
    "How likely is it that a food truck will show up sometime this week?"
   ]
  },
  {
   "cell_type": "code",
   "execution_count": 45,
   "id": "c163cb0b-1c86-435e-b163-c4b9bf39bb98",
   "metadata": {
    "tags": []
   },
   "outputs": [
    {
     "data": {
      "text/plain": [
       "0.99979"
      ]
     },
     "execution_count": 45,
     "metadata": {},
     "output_type": "execute_result"
    }
   ],
   "source": [
    "# Change n to 7 for 7 days of the week\n",
    "n = 7\n",
    "\n",
    "prob_of_truck = np.random.random((n_trials,n))\n",
    "# print(prob_of_truck[:10])\n",
    "truck_found = prob_of_truck < p\n",
    "# print(truck_found[:10])\n",
    "(truck_found.sum(axis=1) >= 1).mean()"
   ]
  },
  {
   "cell_type": "code",
   "execution_count": null,
   "id": "546377f8-7594-422f-97de-0dd974b7bb31",
   "metadata": {},
   "outputs": [],
   "source": []
  },
  {
   "cell_type": "markdown",
   "id": "9acb5f78-8cdd-4fb3-8dbe-a9d043a4faee",
   "metadata": {},
   "source": [
    "8. If 23 people are in the same room, what are the odds that two of them share a birthday? What if it's 20 people? 40?"
   ]
  },
  {
   "cell_type": "code",
   "execution_count": 46,
   "id": "815c9ae7-ad9d-47b1-94eb-4d1c67683a0e",
   "metadata": {
    "tags": []
   },
   "outputs": [],
   "source": [
    "# Establish probabilities and number of events\n",
    "p = 1/365\n",
    "n = 23\n",
    "birthdays = list(range(1,366))"
   ]
  },
  {
   "cell_type": "code",
   "execution_count": 47,
   "id": "722348ff-7058-4bb6-8803-ceb164d0eadd",
   "metadata": {
    "tags": []
   },
   "outputs": [
    {
     "data": {
      "text/html": [
       "<div>\n",
       "<style scoped>\n",
       "    .dataframe tbody tr th:only-of-type {\n",
       "        vertical-align: middle;\n",
       "    }\n",
       "\n",
       "    .dataframe tbody tr th {\n",
       "        vertical-align: top;\n",
       "    }\n",
       "\n",
       "    .dataframe thead th {\n",
       "        text-align: right;\n",
       "    }\n",
       "</style>\n",
       "<table border=\"1\" class=\"dataframe\">\n",
       "  <thead>\n",
       "    <tr style=\"text-align: right;\">\n",
       "      <th></th>\n",
       "      <th>0</th>\n",
       "      <th>1</th>\n",
       "      <th>2</th>\n",
       "      <th>3</th>\n",
       "      <th>4</th>\n",
       "      <th>5</th>\n",
       "      <th>6</th>\n",
       "      <th>7</th>\n",
       "      <th>8</th>\n",
       "      <th>9</th>\n",
       "      <th>...</th>\n",
       "      <th>13</th>\n",
       "      <th>14</th>\n",
       "      <th>15</th>\n",
       "      <th>16</th>\n",
       "      <th>17</th>\n",
       "      <th>18</th>\n",
       "      <th>19</th>\n",
       "      <th>20</th>\n",
       "      <th>21</th>\n",
       "      <th>22</th>\n",
       "    </tr>\n",
       "  </thead>\n",
       "  <tbody>\n",
       "    <tr>\n",
       "      <th>0</th>\n",
       "      <td>219</td>\n",
       "      <td>212</td>\n",
       "      <td>157</td>\n",
       "      <td>281</td>\n",
       "      <td>6</td>\n",
       "      <td>239</td>\n",
       "      <td>150</td>\n",
       "      <td>338</td>\n",
       "      <td>172</td>\n",
       "      <td>5</td>\n",
       "      <td>...</td>\n",
       "      <td>206</td>\n",
       "      <td>261</td>\n",
       "      <td>230</td>\n",
       "      <td>132</td>\n",
       "      <td>136</td>\n",
       "      <td>177</td>\n",
       "      <td>140</td>\n",
       "      <td>265</td>\n",
       "      <td>362</td>\n",
       "      <td>32</td>\n",
       "    </tr>\n",
       "    <tr>\n",
       "      <th>1</th>\n",
       "      <td>126</td>\n",
       "      <td>154</td>\n",
       "      <td>308</td>\n",
       "      <td>91</td>\n",
       "      <td>27</td>\n",
       "      <td>204</td>\n",
       "      <td>6</td>\n",
       "      <td>305</td>\n",
       "      <td>196</td>\n",
       "      <td>238</td>\n",
       "      <td>...</td>\n",
       "      <td>313</td>\n",
       "      <td>94</td>\n",
       "      <td>237</td>\n",
       "      <td>12</td>\n",
       "      <td>89</td>\n",
       "      <td>102</td>\n",
       "      <td>285</td>\n",
       "      <td>353</td>\n",
       "      <td>49</td>\n",
       "      <td>250</td>\n",
       "    </tr>\n",
       "    <tr>\n",
       "      <th>2</th>\n",
       "      <td>185</td>\n",
       "      <td>68</td>\n",
       "      <td>245</td>\n",
       "      <td>275</td>\n",
       "      <td>184</td>\n",
       "      <td>53</td>\n",
       "      <td>12</td>\n",
       "      <td>87</td>\n",
       "      <td>132</td>\n",
       "      <td>3</td>\n",
       "      <td>...</td>\n",
       "      <td>118</td>\n",
       "      <td>216</td>\n",
       "      <td>187</td>\n",
       "      <td>13</td>\n",
       "      <td>305</td>\n",
       "      <td>336</td>\n",
       "      <td>314</td>\n",
       "      <td>156</td>\n",
       "      <td>216</td>\n",
       "      <td>300</td>\n",
       "    </tr>\n",
       "    <tr>\n",
       "      <th>3</th>\n",
       "      <td>263</td>\n",
       "      <td>302</td>\n",
       "      <td>219</td>\n",
       "      <td>15</td>\n",
       "      <td>113</td>\n",
       "      <td>115</td>\n",
       "      <td>229</td>\n",
       "      <td>54</td>\n",
       "      <td>36</td>\n",
       "      <td>179</td>\n",
       "      <td>...</td>\n",
       "      <td>162</td>\n",
       "      <td>79</td>\n",
       "      <td>302</td>\n",
       "      <td>22</td>\n",
       "      <td>131</td>\n",
       "      <td>37</td>\n",
       "      <td>347</td>\n",
       "      <td>9</td>\n",
       "      <td>360</td>\n",
       "      <td>200</td>\n",
       "    </tr>\n",
       "    <tr>\n",
       "      <th>4</th>\n",
       "      <td>255</td>\n",
       "      <td>337</td>\n",
       "      <td>100</td>\n",
       "      <td>122</td>\n",
       "      <td>321</td>\n",
       "      <td>313</td>\n",
       "      <td>24</td>\n",
       "      <td>350</td>\n",
       "      <td>148</td>\n",
       "      <td>267</td>\n",
       "      <td>...</td>\n",
       "      <td>239</td>\n",
       "      <td>271</td>\n",
       "      <td>154</td>\n",
       "      <td>343</td>\n",
       "      <td>277</td>\n",
       "      <td>287</td>\n",
       "      <td>109</td>\n",
       "      <td>18</td>\n",
       "      <td>186</td>\n",
       "      <td>42</td>\n",
       "    </tr>\n",
       "  </tbody>\n",
       "</table>\n",
       "<p>5 rows × 23 columns</p>\n",
       "</div>"
      ],
      "text/plain": [
       "    0    1    2    3    4    5    6    7    8    9   ...   13   14   15   16  \\\n",
       "0  219  212  157  281    6  239  150  338  172    5  ...  206  261  230  132   \n",
       "1  126  154  308   91   27  204    6  305  196  238  ...  313   94  237   12   \n",
       "2  185   68  245  275  184   53   12   87  132    3  ...  118  216  187   13   \n",
       "3  263  302  219   15  113  115  229   54   36  179  ...  162   79  302   22   \n",
       "4  255  337  100  122  321  313   24  350  148  267  ...  239  271  154  343   \n",
       "\n",
       "    17   18   19   20   21   22  \n",
       "0  136  177  140  265  362   32  \n",
       "1   89  102  285  353   49  250  \n",
       "2  305  336  314  156  216  300  \n",
       "3  131   37  347    9  360  200  \n",
       "4  277  287  109   18  186   42  \n",
       "\n",
       "[5 rows x 23 columns]"
      ]
     },
     "execution_count": 47,
     "metadata": {},
     "output_type": "execute_result"
    }
   ],
   "source": [
    "birthday_df = pd.DataFrame(np.random.choice(birthdays,(n_trials,n)))\n",
    "birthday_df.head(5)"
   ]
  },
  {
   "cell_type": "code",
   "execution_count": 48,
   "id": "b309043c-0621-434b-afd6-e4699e2a0442",
   "metadata": {
    "tags": []
   },
   "outputs": [
    {
     "data": {
      "text/plain": [
       "0.36393"
      ]
     },
     "execution_count": 48,
     "metadata": {},
     "output_type": "execute_result"
    }
   ],
   "source": [
    "# For exactly 2 people and no more\n",
    "(birthday_df.nunique(axis=1) == n-1).mean()"
   ]
  },
  {
   "cell_type": "code",
   "execution_count": 49,
   "id": "4c6c9f37-d4b2-4297-ad21-c25b4ae0c3c1",
   "metadata": {
    "tags": []
   },
   "outputs": [
    {
     "data": {
      "text/plain": [
       "0.50665"
      ]
     },
     "execution_count": 49,
     "metadata": {},
     "output_type": "execute_result"
    }
   ],
   "source": [
    "# For at least 2 or more people\n",
    "(birthday_df.nunique(axis=1) < n).mean()"
   ]
  },
  {
   "cell_type": "code",
   "execution_count": 50,
   "id": "e36af3bb-b1cb-45d3-8388-34933e011812",
   "metadata": {
    "tags": []
   },
   "outputs": [
    {
     "data": {
      "text/plain": [
       "0.41281"
      ]
     },
     "execution_count": 50,
     "metadata": {},
     "output_type": "execute_result"
    }
   ],
   "source": [
    "# Calculate probability for 20 people in a room\n",
    "n = 20\n",
    "birthday_df = pd.DataFrame(np.random.choice(birthdays,(n_trials,n)))\n",
    "(birthday_df.nunique(axis=1) < n).mean()"
   ]
  },
  {
   "cell_type": "code",
   "execution_count": 51,
   "id": "1ffb6c12-2c8b-4471-ad8e-457113f56e28",
   "metadata": {
    "tags": []
   },
   "outputs": [
    {
     "data": {
      "text/plain": [
       "0.89259"
      ]
     },
     "execution_count": 51,
     "metadata": {},
     "output_type": "execute_result"
    }
   ],
   "source": [
    "# Calculate probability for 40 people in a room\n",
    "n = 40\n",
    "birthday_df = pd.DataFrame(np.random.choice(birthdays,(n_trials,n)))\n",
    "(birthday_df.nunique(axis=1) < n).mean()"
   ]
  },
  {
   "cell_type": "code",
   "execution_count": null,
   "id": "776ff637-1d01-438b-bdae-4b2323894a27",
   "metadata": {},
   "outputs": [],
   "source": []
  }
 ],
 "metadata": {
  "kernelspec": {
   "display_name": "Python 3 (ipykernel)",
   "language": "python",
   "name": "python3"
  },
  "language_info": {
   "codemirror_mode": {
    "name": "ipython",
    "version": 3
   },
   "file_extension": ".py",
   "mimetype": "text/x-python",
   "name": "python",
   "nbconvert_exporter": "python",
   "pygments_lexer": "ipython3",
   "version": "3.11.5"
  }
 },
 "nbformat": 4,
 "nbformat_minor": 5
}
