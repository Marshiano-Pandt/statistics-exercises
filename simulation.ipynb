{
 "cells": [
  {
   "cell_type": "code",
   "execution_count": 2,
   "id": "7eea22af-ba3d-4e64-90de-8b6902a5571b",
   "metadata": {
    "tags": []
   },
   "outputs": [],
   "source": [
    "# pyplot for plotting\n",
    "import matplotlib.pyplot as plt\n",
    "# numpy for vectorized array operations\n",
    "import numpy as np\n",
    "# pandas for proper tabular manipulation\n",
    "import pandas as pd\n",
    "# scipy stats for our subversions\n",
    "from scipy import stats\n",
    "from scipy.special import comb\n"
   ]
  },
  {
   "cell_type": "markdown",
   "id": "0120207a-7436-4812-a023-a2385553790e",
   "metadata": {},
   "source": [
    "1. How likely is it that you roll doubles when rolling two dice?"
   ]
  },
  {
   "cell_type": "code",
   "execution_count": 5,
   "id": "a0740853-3aed-4e0a-9979-fc8d646e55ba",
   "metadata": {
    "tags": []
   },
   "outputs": [
    {
     "name": "stdout",
     "output_type": "stream",
     "text": [
      "Probabilty of rolling doubles: 0.1667\n"
     ]
    }
   ],
   "source": [
    "sides = 6\n",
    "\n",
    "doubles_ways = comb(sides, 1)\n",
    "\n",
    "total_outcomes = sides**2\n",
    "\n",
    "probability_doubles = doubles_ways / total_outcomes\n",
    "\n",
    "print(f\"Probabilty of rolling doubles: {probability_doubles:.4f}\")"
   ]
  },
  {
   "cell_type": "markdown",
   "id": "293b8d12-a054-4f62-a2c7-a2c8114ee277",
   "metadata": {},
   "source": [
    "2. If you flip 8 coins, what is the probability of getting exactly 3 heads? What is the probability of getting more than 3 heads?"
   ]
  },
  {
   "cell_type": "code",
   "execution_count": 8,
   "id": "73ca4218-c3da-4905-9e94-0e367ce4160c",
   "metadata": {
    "tags": []
   },
   "outputs": [
    {
     "name": "stdout",
     "output_type": "stream",
     "text": [
      "Probability of getting exactly 3 heads: 0.2187\n",
      "Probability of getting more than 3 heads: 0.6367\n"
     ]
    }
   ],
   "source": [
    "from scipy.stats import binom\n",
    "\n",
    "n_flips = 8 #number of flips\n",
    "p_heads = 0.5 #probability of getting heads\n",
    "\n",
    "pmf_3_heads = binom.pmf(3, n_flips, p_heads)\n",
    "pmf_more_than_3_heads = 1 - binom.cdf(3, n_flips, p_heads)\n",
    "\n",
    "print(f\"Probability of getting exactly 3 heads: {pmf_3_heads:.4f}\")\n",
    "print(f\"Probability of getting more than 3 heads: {pmf_more_than_3_heads:.4f}\")"
   ]
  },
  {
   "cell_type": "markdown",
   "id": "7b95ce39-cba9-4012-988c-ed141b0c7f56",
   "metadata": {},
   "source": [
    "3. There are approximitely 3 web development cohorts for every 1 data science cohort at Codeup. Assuming that Codeup randomly selects an alumni to put on a billboard, what are the odds that the two billboards I drive past both have data science students on them?"
   ]
  },
  {
   "cell_type": "code",
   "execution_count": 11,
   "id": "830e29ab-33ef-4462-9e8d-24e3e837dcf7",
   "metadata": {
    "tags": []
   },
   "outputs": [
    {
     "name": "stdout",
     "output_type": "stream",
     "text": [
      "0.0625\n"
     ]
    }
   ],
   "source": [
    "n = 2  # number of billboards\n",
    "k = 2  # number of billboards with data science students\n",
    "p_data = 1 / 4  # probability of a billboard having a data science student\n",
    "p_web = 3 / 4  # probability of a billboard having a web development student\n",
    "\n",
    "probability = binom.pmf(k, n, p_data)\n",
    "print(probability)"
   ]
  },
  {
   "cell_type": "markdown",
   "id": "89b2bab2-8d62-499a-8ec9-4fd091888741",
   "metadata": {},
   "source": [
    "4. Codeup students buy, on average, 3 poptart packages with a standard deviation of 1.5 a day from the snack vending machine. If on monday the machine is restocked with 17 poptart packages, how likely is it that I will be able to buy some poptarts on Friday afternoon? (Remember, if you have mean and standard deviation, use the np.random.normal) You'll need to make a judgement call on how to handle some of your values"
   ]
  },
  {
   "cell_type": "code",
   "execution_count": 12,
   "id": "33c5d5cd-0663-43b4-8600-2be3dad7b89e",
   "metadata": {
    "tags": []
   },
   "outputs": [
    {
     "name": "stdout",
     "output_type": "stream",
     "text": [
      "The likelyhood of being able to buy poptarts on Friday is 100.00%\n"
     ]
    }
   ],
   "source": [
    "mean_poptarts = 3 \n",
    "std_dev_poptarts = 1.5\n",
    "restocked_poptarts = 17\n",
    "\n",
    "np.random.seed(123)\n",
    "poptarts_on_friday = np.random.normal(mean_poptarts, std_dev_poptarts, 5)\n",
    "\n",
    "remaining_poptarts = restocked_poptarts - np.sum(poptarts_on_friday)\n",
    "\n",
    "likelyhood_of_buying = (remaining_poptarts > 0).mean()\n",
    "\n",
    "print(f\"The likelyhood of being able to buy poptarts on Friday is {likelyhood_of_buying:.2%}\")"
   ]
  },
  {
   "cell_type": "markdown",
   "id": "f57f1d91-d339-443e-92c8-87d5059884d7",
   "metadata": {},
   "source": [
    "5. Compare Heights\n",
    "\n",
    "Men have an average height of 178 cm and standard deviation of 8cm.\n",
    "\n",
    "Women have a mean of 170, sd = 6cm.\n",
    "Since you have means and standard deviations, you can use np.random.normal to generate observations.\n",
    "\n",
    "If a man and woman are chosen at random, what is the likelihood the woman is taller than the man?"
   ]
  },
  {
   "cell_type": "code",
   "execution_count": 14,
   "id": "6e531668-d393-44c2-9f0c-dbe1bd085f78",
   "metadata": {
    "tags": []
   },
   "outputs": [
    {
     "name": "stdout",
     "output_type": "stream",
     "text": [
      "The probabilty that a woman is taller than a man is 21.16%\n"
     ]
    }
   ],
   "source": [
    "m_mean = 178\n",
    "m_std_dev = 8\n",
    "w_mean = 170\n",
    "w_std_dev = 6\n",
    "\n",
    "np.random.seed(42)\n",
    "\n",
    "num_simulations = 100000\n",
    "\n",
    "heights_man = np.random.normal(m_mean, m_std_dev, num_simulations)\n",
    "heights_woman = np.random.normal(w_mean, w_std_dev, num_simulations)\n",
    "\n",
    "probability_taller_woman = np.mean(heights_woman > heights_man)\n",
    "\n",
    "print(f\"The probabilty that a woman is taller than a man is {probability_taller_woman:.2%}\")"
   ]
  },
  {
   "cell_type": "markdown",
   "id": "4322d9eb-db14-4bba-8486-fab62bc143c8",
   "metadata": {},
   "source": [
    "6. When installing anaconda on a student's computer, there's a 1 in 250 chance that the download is corrupted and the installation fails. What are the odds that after having 50 students download anaconda, no one has an installation issue? 100 students?\n",
    "\n",
    "What is the probability that we observe an installation issue within the first 150 students that download anaconda?\n",
    "\n",
    "How likely is it that 450 students all download anaconda without an issue?"
   ]
  },
  {
   "cell_type": "code",
   "execution_count": 18,
   "id": "07992bd0-6663-4bf5-bcbd-a136c14956f0",
   "metadata": {
    "tags": []
   },
   "outputs": [
    {
     "name": "stdout",
     "output_type": "stream",
     "text": [
      "0.8184024506760997\n"
     ]
    }
   ],
   "source": [
    "from math import comb\n",
    "\n",
    "n = 50\n",
    "k = 50\n",
    "p = 249/250\n",
    "\n",
    "probability_no_issue = comb(n, k) * (p**k) * ((1 - p) ** (n - k))\n",
    "print(probability_no_issue)"
   ]
  },
  {
   "cell_type": "code",
   "execution_count": 19,
   "id": "4bfd6846-6aa2-4bf3-83d6-782102bb94db",
   "metadata": {
    "tags": []
   },
   "outputs": [
    {
     "name": "stdout",
     "output_type": "stream",
     "text": [
      "0.6697825712726458\n"
     ]
    }
   ],
   "source": [
    "from math import comb\n",
    "\n",
    "n = 100\n",
    "k = 100\n",
    "p = 249/250\n",
    "\n",
    "probability_no_issue = comb(n, k) * (p**k) * ((1 - p) ** (n - k))\n",
    "print(probability_no_issue)"
   ]
  },
  {
   "cell_type": "code",
   "execution_count": 20,
   "id": "43fe02cf-9e2e-4b96-944e-c1849d569303",
   "metadata": {
    "tags": []
   },
   "outputs": [
    {
     "name": "stdout",
     "output_type": "stream",
     "text": [
      "0.1647032961586129\n"
     ]
    }
   ],
   "source": [
    "from math import comb\n",
    "\n",
    "n = 450\n",
    "k = 450\n",
    "p = 249/250\n",
    "\n",
    "probability_no_issue = comb(n, k) * (p**k) * ((1 - p) ** (n - k))\n",
    "print(probability_no_issue)"
   ]
  },
  {
   "cell_type": "markdown",
   "id": "828deb3c-72ef-41d4-a2de-45a78ec32707",
   "metadata": {},
   "source": [
    "7. There's a 70% chance on any given day that there will be at least one food truck at Travis Park. However, you haven't seen a food truck there in 3 days. How unlikely is this?\n",
    "\n",
    "How likely is it that a food truck will show up sometime this week?"
   ]
  },
  {
   "cell_type": "code",
   "execution_count": 21,
   "id": "cad79bd6-50d7-4c20-88f6-694dd013bfeb",
   "metadata": {
    "tags": []
   },
   "outputs": [
    {
     "name": "stdout",
     "output_type": "stream",
     "text": [
      "0.026999999999999996\n"
     ]
    }
   ],
   "source": [
    "probabilty_no_food_truck = 0.3 ** 3\n",
    "print(probabilty_no_food_truck)"
   ]
  },
  {
   "cell_type": "code",
   "execution_count": 22,
   "id": "c6747ab7-2a64-4f23-b391-72539e6a1eaa",
   "metadata": {
    "tags": []
   },
   "outputs": [
    {
     "name": "stdout",
     "output_type": "stream",
     "text": [
      "0.9997813\n"
     ]
    }
   ],
   "source": [
    "at_least_one_food_truck = 1 - (0.3 ** 7)\n",
    "print(at_least_one_food_truck)"
   ]
  },
  {
   "cell_type": "markdown",
   "id": "9acb5f78-8cdd-4fb3-8dbe-a9d043a4faee",
   "metadata": {},
   "source": [
    "8. If 23 people are in the same room, what are the odds that two of them share a birthday? What if it's 20 people? 40?"
   ]
  },
  {
   "cell_type": "code",
   "execution_count": 25,
   "id": "815c9ae7-ad9d-47b1-94eb-4d1c67683a0e",
   "metadata": {
    "tags": []
   },
   "outputs": [
    {
     "name": "stdout",
     "output_type": "stream",
     "text": [
      "0.5072972343239857\n",
      "0.41143838358058027\n",
      "0.891231809817949\n"
     ]
    }
   ],
   "source": [
    "from math import prod\n",
    "\n",
    "def birthday_probability(n):\n",
    "    return 1 - prod([(365 - i) / 365 for i in range (n)])\n",
    "\n",
    "probability_of_two_23 = birthday_probability(23)\n",
    "probability_of_two_20 = birthday_probability(20)\n",
    "probability_of_two_40 = birthday_probability(40)\n",
    "\n",
    "\n",
    "print(probability_of_two_23)\n",
    "print(probability_of_two_20)\n",
    "print(probability_of_two_40)\n"
   ]
  }
 ],
 "metadata": {
  "kernelspec": {
   "display_name": "Python 3 (ipykernel)",
   "language": "python",
   "name": "python3"
  },
  "language_info": {
   "codemirror_mode": {
    "name": "ipython",
    "version": 3
   },
   "file_extension": ".py",
   "mimetype": "text/x-python",
   "name": "python",
   "nbconvert_exporter": "python",
   "pygments_lexer": "ipython3",
   "version": "3.11.5"
  }
 },
 "nbformat": 4,
 "nbformat_minor": 5
}
